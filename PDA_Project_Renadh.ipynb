{
 "cells": [
  {
   "cell_type": "markdown",
   "metadata": {},
   "source": [
    "## Question-1"
   ]
  },
  {
   "cell_type": "markdown",
   "metadata": {},
   "source": [
    "In this question, we will use the csv file **bank.csv**. \n",
    "- a. Read it into a data frame, call it `df`. (Import the packages you think you need).\n",
    "- b. Drop the following columns:\n",
    "    ['default','poutcome','y','housing','contact','day','month','duration','campaign','pdays','previous']"
   ]
  },
  {
   "cell_type": "code",
   "execution_count": 2,
   "metadata": {},
   "outputs": [
    {
     "data": {
      "text/html": [
       "<div>\n",
       "<style scoped>\n",
       "    .dataframe tbody tr th:only-of-type {\n",
       "        vertical-align: middle;\n",
       "    }\n",
       "\n",
       "    .dataframe tbody tr th {\n",
       "        vertical-align: top;\n",
       "    }\n",
       "\n",
       "    .dataframe thead th {\n",
       "        text-align: right;\n",
       "    }\n",
       "</style>\n",
       "<table border=\"1\" class=\"dataframe\">\n",
       "  <thead>\n",
       "    <tr style=\"text-align: right;\">\n",
       "      <th></th>\n",
       "      <th>age</th>\n",
       "      <th>job</th>\n",
       "      <th>marital</th>\n",
       "      <th>education</th>\n",
       "      <th>default</th>\n",
       "      <th>balance</th>\n",
       "      <th>housing</th>\n",
       "      <th>loan</th>\n",
       "      <th>contact</th>\n",
       "      <th>day</th>\n",
       "      <th>month</th>\n",
       "      <th>duration</th>\n",
       "      <th>campaign</th>\n",
       "      <th>pdays</th>\n",
       "      <th>previous</th>\n",
       "      <th>poutcome</th>\n",
       "      <th>y</th>\n",
       "    </tr>\n",
       "  </thead>\n",
       "  <tbody>\n",
       "    <tr>\n",
       "      <td>0</td>\n",
       "      <td>58</td>\n",
       "      <td>management</td>\n",
       "      <td>married</td>\n",
       "      <td>tertiary</td>\n",
       "      <td>no</td>\n",
       "      <td>2143</td>\n",
       "      <td>yes</td>\n",
       "      <td>no</td>\n",
       "      <td>unknown</td>\n",
       "      <td>5</td>\n",
       "      <td>may</td>\n",
       "      <td>261</td>\n",
       "      <td>1</td>\n",
       "      <td>-1</td>\n",
       "      <td>0</td>\n",
       "      <td>unknown</td>\n",
       "      <td>no</td>\n",
       "    </tr>\n",
       "    <tr>\n",
       "      <td>1</td>\n",
       "      <td>44</td>\n",
       "      <td>technician</td>\n",
       "      <td>single</td>\n",
       "      <td>secondary</td>\n",
       "      <td>no</td>\n",
       "      <td>29</td>\n",
       "      <td>yes</td>\n",
       "      <td>no</td>\n",
       "      <td>unknown</td>\n",
       "      <td>5</td>\n",
       "      <td>may</td>\n",
       "      <td>151</td>\n",
       "      <td>1</td>\n",
       "      <td>-1</td>\n",
       "      <td>0</td>\n",
       "      <td>unknown</td>\n",
       "      <td>no</td>\n",
       "    </tr>\n",
       "  </tbody>\n",
       "</table>\n",
       "</div>"
      ],
      "text/plain": [
       "   age         job  marital  education default  balance housing loan  contact  \\\n",
       "0   58  management  married   tertiary      no     2143     yes   no  unknown   \n",
       "1   44  technician   single  secondary      no       29     yes   no  unknown   \n",
       "\n",
       "   day month  duration  campaign  pdays  previous poutcome   y  \n",
       "0    5   may       261         1     -1         0  unknown  no  \n",
       "1    5   may       151         1     -1         0  unknown  no  "
      ]
     },
     "execution_count": 2,
     "metadata": {},
     "output_type": "execute_result"
    }
   ],
   "source": [
    "#### (a) Your code here\n",
    "\n",
    "import pandas as pd\n",
    "\n",
    "data = pd.read_csv('bank.csv',delimiter=';')\n",
    "\n",
    "df=pd.DataFrame(data)\n",
    "\n",
    "df.head(2)\n",
    "\n"
   ]
  },
  {
   "cell_type": "code",
   "execution_count": 3,
   "metadata": {},
   "outputs": [
    {
     "data": {
      "text/html": [
       "<div>\n",
       "<style scoped>\n",
       "    .dataframe tbody tr th:only-of-type {\n",
       "        vertical-align: middle;\n",
       "    }\n",
       "\n",
       "    .dataframe tbody tr th {\n",
       "        vertical-align: top;\n",
       "    }\n",
       "\n",
       "    .dataframe thead th {\n",
       "        text-align: right;\n",
       "    }\n",
       "</style>\n",
       "<table border=\"1\" class=\"dataframe\">\n",
       "  <thead>\n",
       "    <tr style=\"text-align: right;\">\n",
       "      <th></th>\n",
       "      <th>age</th>\n",
       "      <th>job</th>\n",
       "      <th>marital</th>\n",
       "      <th>education</th>\n",
       "      <th>balance</th>\n",
       "      <th>loan</th>\n",
       "    </tr>\n",
       "  </thead>\n",
       "  <tbody>\n",
       "    <tr>\n",
       "      <td>0</td>\n",
       "      <td>58</td>\n",
       "      <td>management</td>\n",
       "      <td>married</td>\n",
       "      <td>tertiary</td>\n",
       "      <td>2143</td>\n",
       "      <td>no</td>\n",
       "    </tr>\n",
       "    <tr>\n",
       "      <td>1</td>\n",
       "      <td>44</td>\n",
       "      <td>technician</td>\n",
       "      <td>single</td>\n",
       "      <td>secondary</td>\n",
       "      <td>29</td>\n",
       "      <td>no</td>\n",
       "    </tr>\n",
       "    <tr>\n",
       "      <td>2</td>\n",
       "      <td>33</td>\n",
       "      <td>entrepreneur</td>\n",
       "      <td>married</td>\n",
       "      <td>secondary</td>\n",
       "      <td>2</td>\n",
       "      <td>yes</td>\n",
       "    </tr>\n",
       "    <tr>\n",
       "      <td>3</td>\n",
       "      <td>47</td>\n",
       "      <td>blue-collar</td>\n",
       "      <td>married</td>\n",
       "      <td>unknown</td>\n",
       "      <td>1506</td>\n",
       "      <td>no</td>\n",
       "    </tr>\n",
       "    <tr>\n",
       "      <td>4</td>\n",
       "      <td>33</td>\n",
       "      <td>unknown</td>\n",
       "      <td>single</td>\n",
       "      <td>unknown</td>\n",
       "      <td>1</td>\n",
       "      <td>no</td>\n",
       "    </tr>\n",
       "    <tr>\n",
       "      <td>...</td>\n",
       "      <td>...</td>\n",
       "      <td>...</td>\n",
       "      <td>...</td>\n",
       "      <td>...</td>\n",
       "      <td>...</td>\n",
       "      <td>...</td>\n",
       "    </tr>\n",
       "    <tr>\n",
       "      <td>45206</td>\n",
       "      <td>51</td>\n",
       "      <td>technician</td>\n",
       "      <td>married</td>\n",
       "      <td>tertiary</td>\n",
       "      <td>825</td>\n",
       "      <td>no</td>\n",
       "    </tr>\n",
       "    <tr>\n",
       "      <td>45207</td>\n",
       "      <td>71</td>\n",
       "      <td>retired</td>\n",
       "      <td>divorced</td>\n",
       "      <td>primary</td>\n",
       "      <td>1729</td>\n",
       "      <td>no</td>\n",
       "    </tr>\n",
       "    <tr>\n",
       "      <td>45208</td>\n",
       "      <td>72</td>\n",
       "      <td>retired</td>\n",
       "      <td>married</td>\n",
       "      <td>secondary</td>\n",
       "      <td>5715</td>\n",
       "      <td>no</td>\n",
       "    </tr>\n",
       "    <tr>\n",
       "      <td>45209</td>\n",
       "      <td>57</td>\n",
       "      <td>blue-collar</td>\n",
       "      <td>married</td>\n",
       "      <td>secondary</td>\n",
       "      <td>668</td>\n",
       "      <td>no</td>\n",
       "    </tr>\n",
       "    <tr>\n",
       "      <td>45210</td>\n",
       "      <td>37</td>\n",
       "      <td>entrepreneur</td>\n",
       "      <td>married</td>\n",
       "      <td>secondary</td>\n",
       "      <td>2971</td>\n",
       "      <td>no</td>\n",
       "    </tr>\n",
       "  </tbody>\n",
       "</table>\n",
       "<p>45211 rows × 6 columns</p>\n",
       "</div>"
      ],
      "text/plain": [
       "       age           job   marital  education  balance loan\n",
       "0       58    management   married   tertiary     2143   no\n",
       "1       44    technician    single  secondary       29   no\n",
       "2       33  entrepreneur   married  secondary        2  yes\n",
       "3       47   blue-collar   married    unknown     1506   no\n",
       "4       33       unknown    single    unknown        1   no\n",
       "...    ...           ...       ...        ...      ...  ...\n",
       "45206   51    technician   married   tertiary      825   no\n",
       "45207   71       retired  divorced    primary     1729   no\n",
       "45208   72       retired   married  secondary     5715   no\n",
       "45209   57   blue-collar   married  secondary      668   no\n",
       "45210   37  entrepreneur   married  secondary     2971   no\n",
       "\n",
       "[45211 rows x 6 columns]"
      ]
     },
     "execution_count": 3,
     "metadata": {},
     "output_type": "execute_result"
    }
   ],
   "source": [
    "# (b)\n",
    "\n",
    "df=df.drop(['default','poutcome','y','housing','contact','day','month','duration','campaign','pdays','previous'],axis=1)\n",
    "df"
   ]
  },
  {
   "cell_type": "markdown",
   "metadata": {},
   "source": [
    "## Question-2\n",
    "Try to discover this data:\n",
    "- a. Find the number of rows and columns.\n",
    "- b. Find the data type of each one of the columns.\n",
    "- c. Find the total number of missing values and the number of missing values in each column if any (Note that \"unknown\" is considerd as missing value).\n",
    "- d. Find the number of instances, mean, std, min, etc of each columns."
   ]
  },
  {
   "cell_type": "code",
   "execution_count": 4,
   "metadata": {},
   "outputs": [],
   "source": [
    "#### (a) Your code here\n",
    "import numpy as np\n",
    "\n",
    "rows=len(df.index)\n",
    "cols=len(df.columns.values)\n"
   ]
  },
  {
   "cell_type": "code",
   "execution_count": 5,
   "metadata": {},
   "outputs": [
    {
     "data": {
      "text/plain": [
       "age           int64\n",
       "job          object\n",
       "marital      object\n",
       "education    object\n",
       "balance       int64\n",
       "loan         object\n",
       "dtype: object"
      ]
     },
     "execution_count": 5,
     "metadata": {},
     "output_type": "execute_result"
    }
   ],
   "source": [
    "#### (b) Your code here\n",
    "\n",
    "data_type=df.dtypes\n",
    "\n",
    "data_type"
   ]
  },
  {
   "cell_type": "code",
   "execution_count": 6,
   "metadata": {},
   "outputs": [
    {
     "data": {
      "text/plain": [
       "2145"
      ]
     },
     "execution_count": 6,
     "metadata": {},
     "output_type": "execute_result"
    }
   ],
   "source": [
    "#### (c) Your code here\n",
    "import numpy as np\n",
    "\n",
    "df=df.replace('unknown', np.nan)\n",
    "    \n",
    "sum_miss=np.sum(np.sum(df.isnull(),axis=1))\n",
    "\n",
    "sum_miss\n",
    "\n",
    "\n",
    "\n"
   ]
  },
  {
   "cell_type": "code",
   "execution_count": 7,
   "metadata": {},
   "outputs": [],
   "source": [
    "#### (d) Your code here\n",
    "\n",
    "mn=df.mean(axis=0, skipna=True)\n",
    "sm=df.sum(axis=0, skipna=True)\n",
    "std=df.std(axis=0)\n",
    "min_val=df.min(axis=0)\n",
    "max_val=df.max(axis=0)\n"
   ]
  },
  {
   "cell_type": "markdown",
   "metadata": {},
   "source": [
    "## Question-3\n",
    "\n",
    "- a. We learned that there is one more record. Add the information of the following record to the DataFrame:\n",
    "        0,42,management,married,secondary,3266,no\n",
    "- b. Verify that the new record was added to the end of the dataframe\n",
    "- c. Reset the index and remove the new created column (index)\n",
    "- d. Drop all rows where education is unkown."
   ]
  },
  {
   "cell_type": "code",
   "execution_count": 8,
   "metadata": {
    "scrolled": true
   },
   "outputs": [],
   "source": [
    "#### (a) Your code here\n",
    "\n",
    "df=df.append(pd.Series([42, 'management', 'married','secondary',3266,'no'], index=df.columns ), ignore_index=True)\n",
    "\n",
    "\n",
    "\n"
   ]
  },
  {
   "cell_type": "code",
   "execution_count": 9,
   "metadata": {},
   "outputs": [
    {
     "data": {
      "text/html": [
       "<div>\n",
       "<style scoped>\n",
       "    .dataframe tbody tr th:only-of-type {\n",
       "        vertical-align: middle;\n",
       "    }\n",
       "\n",
       "    .dataframe tbody tr th {\n",
       "        vertical-align: top;\n",
       "    }\n",
       "\n",
       "    .dataframe thead th {\n",
       "        text-align: right;\n",
       "    }\n",
       "</style>\n",
       "<table border=\"1\" class=\"dataframe\">\n",
       "  <thead>\n",
       "    <tr style=\"text-align: right;\">\n",
       "      <th></th>\n",
       "      <th>age</th>\n",
       "      <th>job</th>\n",
       "      <th>marital</th>\n",
       "      <th>education</th>\n",
       "      <th>balance</th>\n",
       "      <th>loan</th>\n",
       "    </tr>\n",
       "  </thead>\n",
       "  <tbody>\n",
       "    <tr>\n",
       "      <td>45207</td>\n",
       "      <td>71</td>\n",
       "      <td>retired</td>\n",
       "      <td>divorced</td>\n",
       "      <td>primary</td>\n",
       "      <td>1729</td>\n",
       "      <td>no</td>\n",
       "    </tr>\n",
       "    <tr>\n",
       "      <td>45208</td>\n",
       "      <td>72</td>\n",
       "      <td>retired</td>\n",
       "      <td>married</td>\n",
       "      <td>secondary</td>\n",
       "      <td>5715</td>\n",
       "      <td>no</td>\n",
       "    </tr>\n",
       "    <tr>\n",
       "      <td>45209</td>\n",
       "      <td>57</td>\n",
       "      <td>blue-collar</td>\n",
       "      <td>married</td>\n",
       "      <td>secondary</td>\n",
       "      <td>668</td>\n",
       "      <td>no</td>\n",
       "    </tr>\n",
       "    <tr>\n",
       "      <td>45210</td>\n",
       "      <td>37</td>\n",
       "      <td>entrepreneur</td>\n",
       "      <td>married</td>\n",
       "      <td>secondary</td>\n",
       "      <td>2971</td>\n",
       "      <td>no</td>\n",
       "    </tr>\n",
       "    <tr>\n",
       "      <td>45211</td>\n",
       "      <td>42</td>\n",
       "      <td>management</td>\n",
       "      <td>married</td>\n",
       "      <td>secondary</td>\n",
       "      <td>3266</td>\n",
       "      <td>no</td>\n",
       "    </tr>\n",
       "  </tbody>\n",
       "</table>\n",
       "</div>"
      ],
      "text/plain": [
       "       age           job   marital  education  balance loan\n",
       "45207   71       retired  divorced    primary     1729   no\n",
       "45208   72       retired   married  secondary     5715   no\n",
       "45209   57   blue-collar   married  secondary      668   no\n",
       "45210   37  entrepreneur   married  secondary     2971   no\n",
       "45211   42    management   married  secondary     3266   no"
      ]
     },
     "execution_count": 9,
     "metadata": {},
     "output_type": "execute_result"
    }
   ],
   "source": [
    "#### (b) Your code here\n",
    "\n",
    "df.tail()"
   ]
  },
  {
   "cell_type": "code",
   "execution_count": 10,
   "metadata": {},
   "outputs": [
    {
     "data": {
      "text/html": [
       "<div>\n",
       "<style scoped>\n",
       "    .dataframe tbody tr th:only-of-type {\n",
       "        vertical-align: middle;\n",
       "    }\n",
       "\n",
       "    .dataframe tbody tr th {\n",
       "        vertical-align: top;\n",
       "    }\n",
       "\n",
       "    .dataframe thead th {\n",
       "        text-align: right;\n",
       "    }\n",
       "</style>\n",
       "<table border=\"1\" class=\"dataframe\">\n",
       "  <thead>\n",
       "    <tr style=\"text-align: right;\">\n",
       "      <th></th>\n",
       "      <th>age</th>\n",
       "      <th>job</th>\n",
       "      <th>marital</th>\n",
       "      <th>education</th>\n",
       "      <th>balance</th>\n",
       "      <th>loan</th>\n",
       "    </tr>\n",
       "  </thead>\n",
       "  <tbody>\n",
       "    <tr>\n",
       "      <td>45206</td>\n",
       "      <td>51</td>\n",
       "      <td>technician</td>\n",
       "      <td>married</td>\n",
       "      <td>tertiary</td>\n",
       "      <td>825</td>\n",
       "      <td>no</td>\n",
       "    </tr>\n",
       "    <tr>\n",
       "      <td>45207</td>\n",
       "      <td>71</td>\n",
       "      <td>retired</td>\n",
       "      <td>divorced</td>\n",
       "      <td>primary</td>\n",
       "      <td>1729</td>\n",
       "      <td>no</td>\n",
       "    </tr>\n",
       "    <tr>\n",
       "      <td>45208</td>\n",
       "      <td>72</td>\n",
       "      <td>retired</td>\n",
       "      <td>married</td>\n",
       "      <td>secondary</td>\n",
       "      <td>5715</td>\n",
       "      <td>no</td>\n",
       "    </tr>\n",
       "    <tr>\n",
       "      <td>45209</td>\n",
       "      <td>57</td>\n",
       "      <td>blue-collar</td>\n",
       "      <td>married</td>\n",
       "      <td>secondary</td>\n",
       "      <td>668</td>\n",
       "      <td>no</td>\n",
       "    </tr>\n",
       "    <tr>\n",
       "      <td>45210</td>\n",
       "      <td>37</td>\n",
       "      <td>entrepreneur</td>\n",
       "      <td>married</td>\n",
       "      <td>secondary</td>\n",
       "      <td>2971</td>\n",
       "      <td>no</td>\n",
       "    </tr>\n",
       "  </tbody>\n",
       "</table>\n",
       "</div>"
      ],
      "text/plain": [
       "       age           job   marital  education  balance loan\n",
       "45206   51    technician   married   tertiary      825   no\n",
       "45207   71       retired  divorced    primary     1729   no\n",
       "45208   72       retired   married  secondary     5715   no\n",
       "45209   57   blue-collar   married  secondary      668   no\n",
       "45210   37  entrepreneur   married  secondary     2971   no"
      ]
     },
     "execution_count": 10,
     "metadata": {},
     "output_type": "execute_result"
    }
   ],
   "source": [
    "#### (c) Your code here\n",
    "\n",
    "\n",
    "df = df.reset_index(drop=True)\n",
    "df = df.drop(index=45211)\n",
    "\n",
    "df.tail()"
   ]
  },
  {
   "cell_type": "code",
   "execution_count": 11,
   "metadata": {
    "scrolled": true
   },
   "outputs": [],
   "source": [
    "#### (d) Your code here\n",
    "\n",
    "df=df.dropna(axis=0, how='any')\n",
    "\n"
   ]
  },
  {
   "cell_type": "markdown",
   "metadata": {},
   "source": [
    "## Question-4\n",
    "\n",
    "- a. Find the number of people of 'secondary' education level.\n",
    "- b. Compare between the average of the balance of married and single people\n",
    "- c. Find the mean and the standard deviation of the balance of each education level.\n",
    "- d. Find the mean and the standard deviation of the balance of each job.\n",
    "- e. What is the average balance for different education groups and marital status?\n",
    "- f. Compare between the number of people who had loan (married vs single)\n",
    "- g. Which job has the highest mean balance?\n",
    "- h. Which education level has the highest number of loans?\n"
   ]
  },
  {
   "cell_type": "code",
   "execution_count": 12,
   "metadata": {},
   "outputs": [
    {
     "data": {
      "text/html": [
       "<div>\n",
       "<style scoped>\n",
       "    .dataframe tbody tr th:only-of-type {\n",
       "        vertical-align: middle;\n",
       "    }\n",
       "\n",
       "    .dataframe tbody tr th {\n",
       "        vertical-align: top;\n",
       "    }\n",
       "\n",
       "    .dataframe thead th {\n",
       "        text-align: right;\n",
       "    }\n",
       "</style>\n",
       "<table border=\"1\" class=\"dataframe\">\n",
       "  <thead>\n",
       "    <tr style=\"text-align: right;\">\n",
       "      <th></th>\n",
       "      <th>age</th>\n",
       "      <th>job</th>\n",
       "      <th>marital</th>\n",
       "      <th>education</th>\n",
       "      <th>balance</th>\n",
       "      <th>loan</th>\n",
       "    </tr>\n",
       "  </thead>\n",
       "  <tbody>\n",
       "    <tr>\n",
       "      <td>0</td>\n",
       "      <td>58</td>\n",
       "      <td>management</td>\n",
       "      <td>married</td>\n",
       "      <td>tertiary</td>\n",
       "      <td>2143</td>\n",
       "      <td>no</td>\n",
       "    </tr>\n",
       "    <tr>\n",
       "      <td>1</td>\n",
       "      <td>44</td>\n",
       "      <td>technician</td>\n",
       "      <td>single</td>\n",
       "      <td>secondary</td>\n",
       "      <td>29</td>\n",
       "      <td>no</td>\n",
       "    </tr>\n",
       "    <tr>\n",
       "      <td>2</td>\n",
       "      <td>33</td>\n",
       "      <td>entrepreneur</td>\n",
       "      <td>married</td>\n",
       "      <td>secondary</td>\n",
       "      <td>2</td>\n",
       "      <td>yes</td>\n",
       "    </tr>\n",
       "    <tr>\n",
       "      <td>5</td>\n",
       "      <td>35</td>\n",
       "      <td>management</td>\n",
       "      <td>married</td>\n",
       "      <td>tertiary</td>\n",
       "      <td>231</td>\n",
       "      <td>no</td>\n",
       "    </tr>\n",
       "    <tr>\n",
       "      <td>6</td>\n",
       "      <td>28</td>\n",
       "      <td>management</td>\n",
       "      <td>single</td>\n",
       "      <td>tertiary</td>\n",
       "      <td>447</td>\n",
       "      <td>yes</td>\n",
       "    </tr>\n",
       "  </tbody>\n",
       "</table>\n",
       "</div>"
      ],
      "text/plain": [
       "   age           job  marital  education  balance loan\n",
       "0   58    management  married   tertiary     2143   no\n",
       "1   44    technician   single  secondary       29   no\n",
       "2   33  entrepreneur  married  secondary        2  yes\n",
       "5   35    management  married   tertiary      231   no\n",
       "6   28    management   single   tertiary      447  yes"
      ]
     },
     "execution_count": 12,
     "metadata": {},
     "output_type": "execute_result"
    }
   ],
   "source": [
    "df.head()"
   ]
  },
  {
   "cell_type": "code",
   "execution_count": 123,
   "metadata": {},
   "outputs": [
    {
     "name": "stdout",
     "output_type": "stream",
     "text": [
      "TOTAL NUMBER OF PEOPLE WITH SECONDARY EDUCATION: 23131\n"
     ]
    }
   ],
   "source": [
    "#### (a) Your code here\n",
    "\n",
    "\n",
    "secondary_edu=df[df['education']=='secondary'].education.count()\n",
    "\n",
    "print(\"TOTAL NUMBER OF PEOPLE WITH SECONDARY EDUCATION: \" + str(secondary_edu))\n",
    "\n"
   ]
  },
  {
   "cell_type": "code",
   "execution_count": 14,
   "metadata": {},
   "outputs": [
    {
     "name": "stdout",
     "output_type": "stream",
     "text": [
      "MARRIED AVG : 1419.2145610113312\n",
      "SINGLE AVG : 1291.5634667321385\n"
     ]
    }
   ],
   "source": [
    "#### (b) Your code here\n",
    "\n",
    "df.head()\n",
    "\n",
    "df.marital.unique()\n",
    "\n",
    "married=df[df['marital']=='married']['balance'].mean()\n",
    "single=df[df['marital']=='single']['balance'].mean()\n",
    "\n",
    "\n",
    "\n",
    "print(\"MARRIED AVG : \" + str(married))\n",
    "print(\"SINGLE AVG : \" + str(single))"
   ]
  },
  {
   "cell_type": "code",
   "execution_count": 15,
   "metadata": {},
   "outputs": [
    {
     "data": {
      "text/html": [
       "<div>\n",
       "<style scoped>\n",
       "    .dataframe tbody tr th:only-of-type {\n",
       "        vertical-align: middle;\n",
       "    }\n",
       "\n",
       "    .dataframe tbody tr th {\n",
       "        vertical-align: top;\n",
       "    }\n",
       "\n",
       "    .dataframe thead th {\n",
       "        text-align: right;\n",
       "    }\n",
       "</style>\n",
       "<table border=\"1\" class=\"dataframe\">\n",
       "  <thead>\n",
       "    <tr style=\"text-align: right;\">\n",
       "      <th></th>\n",
       "      <th>mean</th>\n",
       "      <th>std</th>\n",
       "    </tr>\n",
       "    <tr>\n",
       "      <th>education</th>\n",
       "      <th></th>\n",
       "      <th></th>\n",
       "    </tr>\n",
       "  </thead>\n",
       "  <tbody>\n",
       "    <tr>\n",
       "      <td>primary</td>\n",
       "      <td>1247.205147</td>\n",
       "      <td>2691.159674</td>\n",
       "    </tr>\n",
       "    <tr>\n",
       "      <td>secondary</td>\n",
       "      <td>1154.590290</td>\n",
       "      <td>2560.382393</td>\n",
       "    </tr>\n",
       "    <tr>\n",
       "      <td>tertiary</td>\n",
       "      <td>1756.649073</td>\n",
       "      <td>3841.533555</td>\n",
       "    </tr>\n",
       "  </tbody>\n",
       "</table>\n",
       "</div>"
      ],
      "text/plain": [
       "                  mean          std\n",
       "education                          \n",
       "primary    1247.205147  2691.159674\n",
       "secondary  1154.590290  2560.382393\n",
       "tertiary   1756.649073  3841.533555"
      ]
     },
     "execution_count": 15,
     "metadata": {},
     "output_type": "execute_result"
    }
   ],
   "source": [
    "#### (c) Your code here\n",
    "\n",
    "edu_group=df.groupby('education')\n",
    "\n",
    "edu_group.agg(['mean','std'])['balance']"
   ]
  },
  {
   "cell_type": "code",
   "execution_count": 16,
   "metadata": {},
   "outputs": [
    {
     "data": {
      "text/html": [
       "<div>\n",
       "<style scoped>\n",
       "    .dataframe tbody tr th:only-of-type {\n",
       "        vertical-align: middle;\n",
       "    }\n",
       "\n",
       "    .dataframe tbody tr th {\n",
       "        vertical-align: top;\n",
       "    }\n",
       "\n",
       "    .dataframe thead th {\n",
       "        text-align: right;\n",
       "    }\n",
       "</style>\n",
       "<table border=\"1\" class=\"dataframe\">\n",
       "  <thead>\n",
       "    <tr style=\"text-align: right;\">\n",
       "      <th></th>\n",
       "      <th>mean</th>\n",
       "      <th>std</th>\n",
       "    </tr>\n",
       "    <tr>\n",
       "      <th>job</th>\n",
       "      <th></th>\n",
       "      <th></th>\n",
       "    </tr>\n",
       "  </thead>\n",
       "  <tbody>\n",
       "    <tr>\n",
       "      <td>admin.</td>\n",
       "      <td>1119.939200</td>\n",
       "      <td>2508.832003</td>\n",
       "    </tr>\n",
       "    <tr>\n",
       "      <td>blue-collar</td>\n",
       "      <td>1080.684954</td>\n",
       "      <td>2253.379418</td>\n",
       "    </tr>\n",
       "    <tr>\n",
       "      <td>entrepreneur</td>\n",
       "      <td>1519.729270</td>\n",
       "      <td>4165.342750</td>\n",
       "    </tr>\n",
       "    <tr>\n",
       "      <td>housemaid</td>\n",
       "      <td>1334.142259</td>\n",
       "      <td>2903.995196</td>\n",
       "    </tr>\n",
       "    <tr>\n",
       "      <td>management</td>\n",
       "      <td>1767.004883</td>\n",
       "      <td>3853.995126</td>\n",
       "    </tr>\n",
       "    <tr>\n",
       "      <td>retired</td>\n",
       "      <td>2010.909091</td>\n",
       "      <td>4488.251877</td>\n",
       "    </tr>\n",
       "    <tr>\n",
       "      <td>self-employed</td>\n",
       "      <td>1649.973377</td>\n",
       "      <td>3710.409463</td>\n",
       "    </tr>\n",
       "    <tr>\n",
       "      <td>services</td>\n",
       "      <td>971.407343</td>\n",
       "      <td>2115.566553</td>\n",
       "    </tr>\n",
       "    <tr>\n",
       "      <td>student</td>\n",
       "      <td>1369.760000</td>\n",
       "      <td>2499.921660</td>\n",
       "    </tr>\n",
       "    <tr>\n",
       "      <td>technician</td>\n",
       "      <td>1235.993746</td>\n",
       "      <td>2487.973557</td>\n",
       "    </tr>\n",
       "    <tr>\n",
       "      <td>unemployed</td>\n",
       "      <td>1521.730769</td>\n",
       "      <td>3161.545684</td>\n",
       "    </tr>\n",
       "  </tbody>\n",
       "</table>\n",
       "</div>"
      ],
      "text/plain": [
       "                      mean          std\n",
       "job                                    \n",
       "admin.         1119.939200  2508.832003\n",
       "blue-collar    1080.684954  2253.379418\n",
       "entrepreneur   1519.729270  4165.342750\n",
       "housemaid      1334.142259  2903.995196\n",
       "management     1767.004883  3853.995126\n",
       "retired        2010.909091  4488.251877\n",
       "self-employed  1649.973377  3710.409463\n",
       "services        971.407343  2115.566553\n",
       "student        1369.760000  2499.921660\n",
       "technician     1235.993746  2487.973557\n",
       "unemployed     1521.730769  3161.545684"
      ]
     },
     "execution_count": 16,
     "metadata": {},
     "output_type": "execute_result"
    }
   ],
   "source": [
    "#### (d) Your code here\n",
    "\n",
    "df.job.unique()\n",
    "\n",
    "job_group=df.groupby('job')\n",
    "\n",
    "job_group.agg(['mean','std'])['balance']"
   ]
  },
  {
   "cell_type": "code",
   "execution_count": 17,
   "metadata": {},
   "outputs": [
    {
     "data": {
      "text/html": [
       "<div>\n",
       "<style scoped>\n",
       "    .dataframe tbody tr th:only-of-type {\n",
       "        vertical-align: middle;\n",
       "    }\n",
       "\n",
       "    .dataframe tbody tr th {\n",
       "        vertical-align: top;\n",
       "    }\n",
       "\n",
       "    .dataframe thead th {\n",
       "        text-align: right;\n",
       "    }\n",
       "</style>\n",
       "<table border=\"1\" class=\"dataframe\">\n",
       "  <thead>\n",
       "    <tr style=\"text-align: right;\">\n",
       "      <th></th>\n",
       "      <th></th>\n",
       "      <th>mean</th>\n",
       "    </tr>\n",
       "    <tr>\n",
       "      <th>education</th>\n",
       "      <th>marital</th>\n",
       "      <th></th>\n",
       "    </tr>\n",
       "  </thead>\n",
       "  <tbody>\n",
       "    <tr>\n",
       "      <td rowspan=\"3\" valign=\"top\">primary</td>\n",
       "      <td>divorced</td>\n",
       "      <td>1132.622995</td>\n",
       "    </tr>\n",
       "    <tr>\n",
       "      <td>married</td>\n",
       "      <td>1284.937968</td>\n",
       "    </tr>\n",
       "    <tr>\n",
       "      <td>single</td>\n",
       "      <td>1116.119527</td>\n",
       "    </tr>\n",
       "    <tr>\n",
       "      <td rowspan=\"3\" valign=\"top\">secondary</td>\n",
       "      <td>divorced</td>\n",
       "      <td>901.628023</td>\n",
       "    </tr>\n",
       "    <tr>\n",
       "      <td>married</td>\n",
       "      <td>1251.550051</td>\n",
       "    </tr>\n",
       "    <tr>\n",
       "      <td>single</td>\n",
       "      <td>1060.620962</td>\n",
       "    </tr>\n",
       "    <tr>\n",
       "      <td rowspan=\"3\" valign=\"top\">tertiary</td>\n",
       "      <td>divorced</td>\n",
       "      <td>1701.204360</td>\n",
       "    </tr>\n",
       "    <tr>\n",
       "      <td>married</td>\n",
       "      <td>1847.068730</td>\n",
       "    </tr>\n",
       "    <tr>\n",
       "      <td>single</td>\n",
       "      <td>1641.041414</td>\n",
       "    </tr>\n",
       "  </tbody>\n",
       "</table>\n",
       "</div>"
      ],
      "text/plain": [
       "                           mean\n",
       "education marital              \n",
       "primary   divorced  1132.622995\n",
       "          married   1284.937968\n",
       "          single    1116.119527\n",
       "secondary divorced   901.628023\n",
       "          married   1251.550051\n",
       "          single    1060.620962\n",
       "tertiary  divorced  1701.204360\n",
       "          married   1847.068730\n",
       "          single    1641.041414"
      ]
     },
     "execution_count": 17,
     "metadata": {},
     "output_type": "execute_result"
    }
   ],
   "source": [
    "#### (e) Your code here\n",
    "\n",
    "group=df.groupby(['education','marital'])\n",
    "\n",
    "group.agg(['mean'])['balance']"
   ]
  },
  {
   "cell_type": "code",
   "execution_count": 18,
   "metadata": {},
   "outputs": [
    {
     "name": "stdout",
     "output_type": "stream",
     "text": [
      "TOTAL NUMBER OF LOANS TAKEN BY SINGLE POPULATION: 1632\n",
      "TOTAL NUMBER OF LOANS TAKEN BY MARRIED POPULATION: 4568\n"
     ]
    }
   ],
   "source": [
    "#### (f) Your code here\n",
    "\n",
    "\n",
    "loan_yes=df[df['loan']=='yes']\n",
    "\n",
    "loan_single=loan_yes[loan_yes['marital']=='single'].loan.count()\n",
    "loan_married=loan_yes[loan_yes['marital']=='married'].loan.count()\n",
    "loan_divorced=loan_yes[loan_yes['marital']=='divorced'].loan.count()\n",
    "\n",
    "print(\"TOTAL NUMBER OF LOANS TAKEN BY SINGLE POPULATION: \" + str(loan_single))\n",
    "print(\"TOTAL NUMBER OF LOANS TAKEN BY MARRIED POPULATION: \" + str(loan_married))\n"
   ]
  },
  {
   "cell_type": "code",
   "execution_count": 128,
   "metadata": {},
   "outputs": [
    {
     "data": {
      "text/html": [
       "<div>\n",
       "<style scoped>\n",
       "    .dataframe tbody tr th:only-of-type {\n",
       "        vertical-align: middle;\n",
       "    }\n",
       "\n",
       "    .dataframe tbody tr th {\n",
       "        vertical-align: top;\n",
       "    }\n",
       "\n",
       "    .dataframe thead th {\n",
       "        text-align: right;\n",
       "    }\n",
       "</style>\n",
       "<table border=\"1\" class=\"dataframe\">\n",
       "  <thead>\n",
       "    <tr style=\"text-align: right;\">\n",
       "      <th></th>\n",
       "      <th>mean</th>\n",
       "    </tr>\n",
       "    <tr>\n",
       "      <th>job</th>\n",
       "      <th></th>\n",
       "    </tr>\n",
       "  </thead>\n",
       "  <tbody>\n",
       "    <tr>\n",
       "      <td>retired</td>\n",
       "      <td>2010.909091</td>\n",
       "    </tr>\n",
       "    <tr>\n",
       "      <td>management</td>\n",
       "      <td>1767.004883</td>\n",
       "    </tr>\n",
       "    <tr>\n",
       "      <td>self-employed</td>\n",
       "      <td>1649.973377</td>\n",
       "    </tr>\n",
       "    <tr>\n",
       "      <td>unemployed</td>\n",
       "      <td>1521.730769</td>\n",
       "    </tr>\n",
       "    <tr>\n",
       "      <td>entrepreneur</td>\n",
       "      <td>1519.729270</td>\n",
       "    </tr>\n",
       "    <tr>\n",
       "      <td>student</td>\n",
       "      <td>1369.760000</td>\n",
       "    </tr>\n",
       "    <tr>\n",
       "      <td>housemaid</td>\n",
       "      <td>1334.142259</td>\n",
       "    </tr>\n",
       "    <tr>\n",
       "      <td>technician</td>\n",
       "      <td>1235.993746</td>\n",
       "    </tr>\n",
       "    <tr>\n",
       "      <td>admin.</td>\n",
       "      <td>1119.939200</td>\n",
       "    </tr>\n",
       "    <tr>\n",
       "      <td>blue-collar</td>\n",
       "      <td>1080.684954</td>\n",
       "    </tr>\n",
       "    <tr>\n",
       "      <td>services</td>\n",
       "      <td>971.407343</td>\n",
       "    </tr>\n",
       "  </tbody>\n",
       "</table>\n",
       "</div>"
      ],
      "text/plain": [
       "                      mean\n",
       "job                       \n",
       "retired        2010.909091\n",
       "management     1767.004883\n",
       "self-employed  1649.973377\n",
       "unemployed     1521.730769\n",
       "entrepreneur   1519.729270\n",
       "student        1369.760000\n",
       "housemaid      1334.142259\n",
       "technician     1235.993746\n",
       "admin.         1119.939200\n",
       "blue-collar    1080.684954\n",
       "services        971.407343"
      ]
     },
     "execution_count": 128,
     "metadata": {},
     "output_type": "execute_result"
    }
   ],
   "source": [
    "\n",
    "#### (g) Your code here\n",
    "\n",
    "max_mean = df.groupby(['job']).agg(['mean'])['balance']\n",
    "max_mean.sort_values('mean',ascending=False)\n",
    "\n",
    "#df.groupby('job').agg('mean')['balance'].plot.bar()\n",
    "\n",
    "#max_mean=df.groupby('job').agg('mean')['balance'].max()\n"
   ]
  },
  {
   "cell_type": "code",
   "execution_count": 20,
   "metadata": {},
   "outputs": [
    {
     "data": {
      "text/plain": [
       "education\n",
       "primary      1022\n",
       "secondary    4301\n",
       "tertiary     1784\n",
       "Name: education, dtype: int64"
      ]
     },
     "execution_count": 20,
     "metadata": {},
     "output_type": "execute_result"
    }
   ],
   "source": [
    "#### (h) Your code here\n",
    "\n",
    "loan_yes=df[df['loan']=='yes']\n",
    "\n",
    "loan_yes.groupby('education').education.count()\n",
    "\n"
   ]
  },
  {
   "cell_type": "markdown",
   "metadata": {
    "collapsed": true
   },
   "source": [
    "## Question-5\n",
    "\n",
    "- a. Create the age histogram of married people\n",
    "- b. Create a figure that shows the number of loans in each job category (try a horizontal plot)\n",
    "- c. Visualize the relation between age and balance.\n",
    "- d. Compare the age distribution for different marital status.\n"
   ]
  },
  {
   "cell_type": "code",
   "execution_count": 21,
   "metadata": {
    "scrolled": true
   },
   "outputs": [
    {
     "data": {
      "text/plain": [
       "Text(0.5, 0, 'AGE GROUP')"
      ]
     },
     "execution_count": 21,
     "metadata": {},
     "output_type": "execute_result"
    },
    {
     "data": {
      "image/png": "[encoded data removed]",
      "text/plain": [
       "<Figure size 432x288 with 1 Axes>"
      ]
     },
     "metadata": {
      "needs_background": "light"
     },
     "output_type": "display_data"
    }
   ],
   "source": [
    "#### (a) Your code here\n",
    "\n",
    "import matplotlib.pyplot as plt\n",
    "\n",
    "df[df.marital=='married']['age'].plot.hist(edgecolor='k',color='green')\n",
    "\n",
    "plt.ylabel('NUMBER OF MARRIED PEOPLE')\n",
    "plt.xlabel('AGE GROUP')\n"
   ]
  },
  {
   "cell_type": "code",
   "execution_count": 88,
   "metadata": {},
   "outputs": [
    {
     "data": {
      "image/png": "[encoded data removed]",
      "text/plain": [
       "<Figure size 432x288 with 1 Axes>"
      ]
     },
     "metadata": {
      "needs_background": "light"
     },
     "output_type": "display_data"
    }
   ],
   "source": [
    "#### (b) Your code here\n",
    "\n",
    "df.groupby('job').loan.value_counts().unstack().plot.barh(colormap='Paired',edgecolor='purple')\n",
    "\n",
    "plt.ylabel('JOBS')\n",
    "plt.xlabel('NUMBER OF LOANS')\n",
    "plt.grid(zorder=0)\n"
   ]
  },
  {
   "cell_type": "code",
   "execution_count": 129,
   "metadata": {
    "scrolled": true
   },
   "outputs": [
    {
     "data": {
      "image/png": "[encoded data removed]",
      "text/plain": [
       "<Figure size 432x288 with 1 Axes>"
      ]
     },
     "metadata": {
      "needs_background": "light"
     },
     "output_type": "display_data"
    }
   ],
   "source": [
    "#### (c) Your code here\n",
    "\n",
    "#df=df.sort_values(by='age')\n",
    "plt.scatter(df['balance'], df['age'],alpha=0.2)\n",
    "#plt.plot(df['age'], df['balance'])\n",
    "plt.title('Age - Bank Account Balance ')\n",
    "plt.xlabel('Account Balance in USD')\n",
    "plt.ylabel('Age')\n",
    "plt.grid(linestyle='--')"
   ]
  },
  {
   "cell_type": "code",
   "execution_count": 149,
   "metadata": {},
   "outputs": [
    {
     "data": {
      "text/plain": [
       "Text(0.5, 1.0, 'MARRIED -- AGE DISTRIBUTION')"
      ]
     },
     "execution_count": 149,
     "metadata": {},
     "output_type": "execute_result"
    },
    {
     "data": {
      "image/png": "[encoded data removed]",
      "text/plain": [
       "<Figure size 432x288 with 1 Axes>"
      ]
     },
     "metadata": {
      "needs_background": "light"
     },
     "output_type": "display_data"
    }
   ],
   "source": [
    "#### (d) Your code here\n",
    "\n",
    "\n",
    "df[df.marital=='married']['age'].plot.hist(edgecolor='c',color='black')\n",
    "\n",
    "plt.ylabel('MARRIED POPULATION')\n",
    "plt.xlabel('AGE GROUP')\n",
    "plt.title('AGE DISTRIBUTION - MARRIED')\n"
   ]
  },
  {
   "cell_type": "code",
   "execution_count": 155,
   "metadata": {},
   "outputs": [
    {
     "data": {
      "text/plain": [
       "Text(0.5, 1.0, 'AGE DISTRIBUTION - DIVORCED')"
      ]
     },
     "execution_count": 155,
     "metadata": {},
     "output_type": "execute_result"
    },
    {
     "data": {
      "image/png": "[encoded data removed]",
      "text/plain": [
       "<Figure size 432x288 with 1 Axes>"
      ]
     },
     "metadata": {
      "needs_background": "light"
     },
     "output_type": "display_data"
    }
   ],
   "source": [
    "df[df.marital=='divorced']['age'].plot.hist(edgecolor='k',color='green')\n",
    "\n",
    "plt.ylabel('DIVORCED POPULATION')\n",
    "plt.xlabel('AGE GROUP')\n",
    "plt.title('AGE DISTRIBUTION - DIVORCED')"
   ]
  },
  {
   "cell_type": "code",
   "execution_count": 158,
   "metadata": {},
   "outputs": [
    {
     "data": {
      "text/plain": [
       "Text(0.5, 1.0, 'AGE DISTRIBUTION - SINGLE')"
      ]
     },
     "execution_count": 158,
     "metadata": {},
     "output_type": "execute_result"
    },
    {
     "data": {
      "image/png": "[encoded data removed]",
      "text/plain": [
       "<Figure size 432x288 with 1 Axes>"
      ]
     },
     "metadata": {
      "needs_background": "light"
     },
     "output_type": "display_data"
    }
   ],
   "source": [
    "df[df.marital=='single']['age'].plot.hist(edgecolor='r',color='skyblue')\n",
    "\n",
    "plt.ylabel('SINGLE POPULATION')\n",
    "plt.xlabel('AGE GROUP')\n",
    "plt.title('AGE DISTRIBUTION - SINGLE')"
   ]
  },
  {
   "cell_type": "code",
   "execution_count": null,
   "metadata": {},
   "outputs": [],
   "source": []
  },
  {
   "cell_type": "code",
   "execution_count": null,
   "metadata": {},
   "outputs": [],
   "source": []
  }
 ],
 "metadata": {
  "kernelspec": {
   "display_name": "Python 3",
   "language": "python",
   "name": "python3"
  },
  "language_info": {
   "codemirror_mode": {
    "name": "ipython",
    "version": 3
   },
   "file_extension": ".py",
   "mimetype": "text/x-python",
   "name": "python",
   "nbconvert_exporter": "python",
   "pygments_lexer": "ipython3",
   "version": "3.7.4"
  }
 },
 "nbformat": 4,
 "nbformat_minor": 1
}
